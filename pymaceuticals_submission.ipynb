{
 "cells": [
  {
   "cell_type": "markdown",
   "metadata": {},
   "source": [
    "# Pymaceuticals Inc.\n",
    "---\n",
    "\n",
    "### Analysis\n",
    "\n",
    "- Capomulin seems to really start working after the 20 days \n",
    "- There is a strong positive correlation (0.84) between the mouse weight and tumor size, meaning they grow together. \n",
    "- Capomulin and ramicane contained the two largest amount of mice tested, and ramicane contained the lowest tumor volumnes. \n",
    " "
   ]
  },
  {
   "cell_type": "code",
   "execution_count": 79,
   "metadata": {},
   "outputs": [
    {
     "data": {
      "text/html": [
       "<div>\n",
       "<style scoped>\n",
       "    .dataframe tbody tr th:only-of-type {\n",
       "        vertical-align: middle;\n",
       "    }\n",
       "\n",
       "    .dataframe tbody tr th {\n",
       "        vertical-align: top;\n",
       "    }\n",
       "\n",
       "    .dataframe thead th {\n",
       "        text-align: right;\n",
       "    }\n",
       "</style>\n",
       "<table border=\"1\" class=\"dataframe\">\n",
       "  <thead>\n",
       "    <tr style=\"text-align: right;\">\n",
       "      <th></th>\n",
       "      <th>Mouse ID</th>\n",
       "      <th>Drug Regimen</th>\n",
       "      <th>Sex</th>\n",
       "      <th>Age_months</th>\n",
       "      <th>Weight (g)</th>\n",
       "      <th>Timepoint</th>\n",
       "      <th>Tumor Volume (mm3)</th>\n",
       "      <th>Metastatic Sites</th>\n",
       "    </tr>\n",
       "  </thead>\n",
       "  <tbody>\n",
       "    <tr>\n",
       "      <th>0</th>\n",
       "      <td>k403</td>\n",
       "      <td>Ramicane</td>\n",
       "      <td>Male</td>\n",
       "      <td>21</td>\n",
       "      <td>16</td>\n",
       "      <td>0</td>\n",
       "      <td>45.000000</td>\n",
       "      <td>0</td>\n",
       "    </tr>\n",
       "    <tr>\n",
       "      <th>1</th>\n",
       "      <td>k403</td>\n",
       "      <td>Ramicane</td>\n",
       "      <td>Male</td>\n",
       "      <td>21</td>\n",
       "      <td>16</td>\n",
       "      <td>5</td>\n",
       "      <td>38.825898</td>\n",
       "      <td>0</td>\n",
       "    </tr>\n",
       "    <tr>\n",
       "      <th>2</th>\n",
       "      <td>k403</td>\n",
       "      <td>Ramicane</td>\n",
       "      <td>Male</td>\n",
       "      <td>21</td>\n",
       "      <td>16</td>\n",
       "      <td>10</td>\n",
       "      <td>35.014271</td>\n",
       "      <td>1</td>\n",
       "    </tr>\n",
       "    <tr>\n",
       "      <th>3</th>\n",
       "      <td>k403</td>\n",
       "      <td>Ramicane</td>\n",
       "      <td>Male</td>\n",
       "      <td>21</td>\n",
       "      <td>16</td>\n",
       "      <td>15</td>\n",
       "      <td>34.223992</td>\n",
       "      <td>1</td>\n",
       "    </tr>\n",
       "    <tr>\n",
       "      <th>4</th>\n",
       "      <td>k403</td>\n",
       "      <td>Ramicane</td>\n",
       "      <td>Male</td>\n",
       "      <td>21</td>\n",
       "      <td>16</td>\n",
       "      <td>20</td>\n",
       "      <td>32.997729</td>\n",
       "      <td>1</td>\n",
       "    </tr>\n",
       "  </tbody>\n",
       "</table>\n",
       "</div>"
      ],
      "text/plain": [
       "  Mouse ID Drug Regimen   Sex  Age_months  Weight (g)  Timepoint   \n",
       "0     k403     Ramicane  Male          21          16          0  \\\n",
       "1     k403     Ramicane  Male          21          16          5   \n",
       "2     k403     Ramicane  Male          21          16         10   \n",
       "3     k403     Ramicane  Male          21          16         15   \n",
       "4     k403     Ramicane  Male          21          16         20   \n",
       "\n",
       "   Tumor Volume (mm3)  Metastatic Sites  \n",
       "0           45.000000                 0  \n",
       "1           38.825898                 0  \n",
       "2           35.014271                 1  \n",
       "3           34.223992                 1  \n",
       "4           32.997729                 1  "
      ]
     },
     "execution_count": 79,
     "metadata": {},
     "output_type": "execute_result"
    }
   ],
   "source": [
    "# Dependencies and Setup\n",
    "import matplotlib.pyplot as plt\n",
    "import pandas as pd\n",
    "import scipy.stats as st\n",
    "import numpy as np\n",
    "from scipy.stats import linregress\n",
    "\n",
    "# Study data files\n",
    "mouse_metadata_path = \"data/Mouse_metadata.csv\"\n",
    "study_results_path = \"data/Study_results.csv\"\n",
    "\n",
    "# Read the mouse data and the study results\n",
    "mouse_metadata = pd.read_csv(mouse_metadata_path)\n",
    "study_results = pd.read_csv(study_results_path)\n",
    "\n",
    "# Combine the data into a single DataFrame\n",
    "\n",
    "combined_df = pd.merge(mouse_metadata, study_results, how=\"outer\", on=\"Mouse ID\")\n",
    "\n",
    "# Display the data table for preview\n",
    "combined_df.head()"
   ]
  },
  {
   "cell_type": "code",
   "execution_count": 3,
   "metadata": {},
   "outputs": [
    {
     "data": {
      "text/plain": [
       "249"
      ]
     },
     "execution_count": 3,
     "metadata": {},
     "output_type": "execute_result"
    }
   ],
   "source": [
    "# Checking the number of mice.\n",
    "total_mouse = len(combined_df[\"Mouse ID\"].value_counts())\n",
    "total_mouse"
   ]
  },
  {
   "cell_type": "code",
   "execution_count": 4,
   "metadata": {},
   "outputs": [
    {
     "data": {
      "text/plain": [
       "array(['g989'], dtype=object)"
      ]
     },
     "execution_count": 4,
     "metadata": {},
     "output_type": "execute_result"
    }
   ],
   "source": [
    "# Our data should be uniquely identified by Mouse ID and Timepoint\n",
    "# Get the duplicate mice by ID number that shows up for Mouse ID and Timepoint. \n",
    "dupe_mouse = combined_df.loc[combined_df.duplicated(subset=['Mouse ID','Timepoint']),\"Mouse ID\"].unique()\n",
    "dupe_mouse"
   ]
  },
  {
   "cell_type": "code",
   "execution_count": 5,
   "metadata": {},
   "outputs": [],
   "source": [
    "# Optional: Get all the data for the duplicate mouse ID. \n",
    "\n",
    "dupe_mouse_df = combined_df.loc[combined_df[\"Mouse ID\"] == \"g989\", :]\n",
    "# dupe_mouse_df"
   ]
  },
  {
   "cell_type": "code",
   "execution_count": 6,
   "metadata": {},
   "outputs": [],
   "source": [
    "# Create a clean DataFrame by dropping the duplicate mouse by its ID.\n",
    "clean_data = combined_df[combined_df['Mouse ID'].isin(dupe_mouse)==False]\n",
    "# clean_data"
   ]
  },
  {
   "cell_type": "code",
   "execution_count": 7,
   "metadata": {},
   "outputs": [
    {
     "data": {
      "text/plain": [
       "248"
      ]
     },
     "execution_count": 7,
     "metadata": {},
     "output_type": "execute_result"
    }
   ],
   "source": [
    "# Checking the number of mice in the clean DataFrame.\n",
    "clean_count_mouse = len(clean_data[\"Mouse ID\"].value_counts())\n",
    "clean_count_mouse"
   ]
  },
  {
   "cell_type": "markdown",
   "metadata": {},
   "source": [
    "## Summary Statistics"
   ]
  },
  {
   "cell_type": "code",
   "execution_count": 8,
   "metadata": {},
   "outputs": [
    {
     "data": {
      "text/html": [
       "<div>\n",
       "<style scoped>\n",
       "    .dataframe tbody tr th:only-of-type {\n",
       "        vertical-align: middle;\n",
       "    }\n",
       "\n",
       "    .dataframe tbody tr th {\n",
       "        vertical-align: top;\n",
       "    }\n",
       "\n",
       "    .dataframe thead th {\n",
       "        text-align: right;\n",
       "    }\n",
       "</style>\n",
       "<table border=\"1\" class=\"dataframe\">\n",
       "  <thead>\n",
       "    <tr style=\"text-align: right;\">\n",
       "      <th></th>\n",
       "      <th>Mean Tumor Volume</th>\n",
       "      <th>Median Tumor Volume</th>\n",
       "      <th>Tumor Volume Variance</th>\n",
       "      <th>Tumor Volume Std Dev</th>\n",
       "      <th>Tumor Volume Std Err.</th>\n",
       "    </tr>\n",
       "    <tr>\n",
       "      <th>Drug Regimen</th>\n",
       "      <th></th>\n",
       "      <th></th>\n",
       "      <th></th>\n",
       "      <th></th>\n",
       "      <th></th>\n",
       "    </tr>\n",
       "  </thead>\n",
       "  <tbody>\n",
       "    <tr>\n",
       "      <th>Capomulin</th>\n",
       "      <td>40.675741</td>\n",
       "      <td>41.557809</td>\n",
       "      <td>24.947764</td>\n",
       "      <td>4.994774</td>\n",
       "      <td>0.329346</td>\n",
       "    </tr>\n",
       "    <tr>\n",
       "      <th>Ceftamin</th>\n",
       "      <td>52.591172</td>\n",
       "      <td>51.776157</td>\n",
       "      <td>39.290177</td>\n",
       "      <td>6.268188</td>\n",
       "      <td>0.469821</td>\n",
       "    </tr>\n",
       "    <tr>\n",
       "      <th>Infubinol</th>\n",
       "      <td>52.884795</td>\n",
       "      <td>51.820584</td>\n",
       "      <td>43.128684</td>\n",
       "      <td>6.567243</td>\n",
       "      <td>0.492236</td>\n",
       "    </tr>\n",
       "    <tr>\n",
       "      <th>Ketapril</th>\n",
       "      <td>55.235638</td>\n",
       "      <td>53.698743</td>\n",
       "      <td>68.553577</td>\n",
       "      <td>8.279709</td>\n",
       "      <td>0.603860</td>\n",
       "    </tr>\n",
       "    <tr>\n",
       "      <th>Naftisol</th>\n",
       "      <td>54.331565</td>\n",
       "      <td>52.509285</td>\n",
       "      <td>66.173479</td>\n",
       "      <td>8.134708</td>\n",
       "      <td>0.596466</td>\n",
       "    </tr>\n",
       "    <tr>\n",
       "      <th>Placebo</th>\n",
       "      <td>54.033581</td>\n",
       "      <td>52.288934</td>\n",
       "      <td>61.168083</td>\n",
       "      <td>7.821003</td>\n",
       "      <td>0.581331</td>\n",
       "    </tr>\n",
       "    <tr>\n",
       "      <th>Propriva</th>\n",
       "      <td>52.320930</td>\n",
       "      <td>50.446266</td>\n",
       "      <td>43.852013</td>\n",
       "      <td>6.622085</td>\n",
       "      <td>0.544332</td>\n",
       "    </tr>\n",
       "    <tr>\n",
       "      <th>Ramicane</th>\n",
       "      <td>40.216745</td>\n",
       "      <td>40.673236</td>\n",
       "      <td>23.486704</td>\n",
       "      <td>4.846308</td>\n",
       "      <td>0.320955</td>\n",
       "    </tr>\n",
       "    <tr>\n",
       "      <th>Stelasyn</th>\n",
       "      <td>54.233149</td>\n",
       "      <td>52.431737</td>\n",
       "      <td>59.450562</td>\n",
       "      <td>7.710419</td>\n",
       "      <td>0.573111</td>\n",
       "    </tr>\n",
       "    <tr>\n",
       "      <th>Zoniferol</th>\n",
       "      <td>53.236507</td>\n",
       "      <td>51.818479</td>\n",
       "      <td>48.533355</td>\n",
       "      <td>6.966589</td>\n",
       "      <td>0.516398</td>\n",
       "    </tr>\n",
       "  </tbody>\n",
       "</table>\n",
       "</div>"
      ],
      "text/plain": [
       "              Mean Tumor Volume  Median Tumor Volume  Tumor Volume Variance   \n",
       "Drug Regimen                                                                  \n",
       "Capomulin             40.675741            41.557809              24.947764  \\\n",
       "Ceftamin              52.591172            51.776157              39.290177   \n",
       "Infubinol             52.884795            51.820584              43.128684   \n",
       "Ketapril              55.235638            53.698743              68.553577   \n",
       "Naftisol              54.331565            52.509285              66.173479   \n",
       "Placebo               54.033581            52.288934              61.168083   \n",
       "Propriva              52.320930            50.446266              43.852013   \n",
       "Ramicane              40.216745            40.673236              23.486704   \n",
       "Stelasyn              54.233149            52.431737              59.450562   \n",
       "Zoniferol             53.236507            51.818479              48.533355   \n",
       "\n",
       "              Tumor Volume Std Dev  Tumor Volume Std Err.  \n",
       "Drug Regimen                                               \n",
       "Capomulin                 4.994774               0.329346  \n",
       "Ceftamin                  6.268188               0.469821  \n",
       "Infubinol                 6.567243               0.492236  \n",
       "Ketapril                  8.279709               0.603860  \n",
       "Naftisol                  8.134708               0.596466  \n",
       "Placebo                   7.821003               0.581331  \n",
       "Propriva                  6.622085               0.544332  \n",
       "Ramicane                  4.846308               0.320955  \n",
       "Stelasyn                  7.710419               0.573111  \n",
       "Zoniferol                 6.966589               0.516398  "
      ]
     },
     "execution_count": 8,
     "metadata": {},
     "output_type": "execute_result"
    }
   ],
   "source": [
    "# Generate a summary statistics table of mean, median, variance, standard deviation, and SEM of the tumor volume for each regimen\n",
    "# Use groupby and summary statistical methods to calculate the following properties of each drug regimen: \n",
    "# mean, median, variance, standard deviation, and SEM of the tumor volume. \n",
    "# Assemble the resulting series into a single summary DataFrame.\n",
    "\n",
    "drugreg_groups = clean_data.groupby('Drug Regimen')\n",
    "\n",
    "summary_stats = drugreg_groups['Tumor Volume (mm3)'].agg([np.mean, np.median, np.var, np.std, 'sem'])\n",
    "\n",
    "summary_stats.columns = ['Mean Tumor Volume', 'Median Tumor Volume', 'Tumor Volume Variance', 'Tumor Volume Std Dev', 'Tumor Volume Std Err.']\n",
    "\n",
    "summary_stats"
   ]
  },
  {
   "cell_type": "code",
   "execution_count": 9,
   "metadata": {},
   "outputs": [
    {
     "data": {
      "text/html": [
       "<div>\n",
       "<style scoped>\n",
       "    .dataframe tbody tr th:only-of-type {\n",
       "        vertical-align: middle;\n",
       "    }\n",
       "\n",
       "    .dataframe tbody tr th {\n",
       "        vertical-align: top;\n",
       "    }\n",
       "\n",
       "    .dataframe thead tr th {\n",
       "        text-align: left;\n",
       "    }\n",
       "\n",
       "    .dataframe thead tr:last-of-type th {\n",
       "        text-align: right;\n",
       "    }\n",
       "</style>\n",
       "<table border=\"1\" class=\"dataframe\">\n",
       "  <thead>\n",
       "    <tr>\n",
       "      <th></th>\n",
       "      <th colspan=\"5\" halign=\"left\">Tumor Volume (mm3)</th>\n",
       "    </tr>\n",
       "    <tr>\n",
       "      <th></th>\n",
       "      <th>mean</th>\n",
       "      <th>median</th>\n",
       "      <th>var</th>\n",
       "      <th>std</th>\n",
       "      <th>sem</th>\n",
       "    </tr>\n",
       "    <tr>\n",
       "      <th>Drug Regimen</th>\n",
       "      <th></th>\n",
       "      <th></th>\n",
       "      <th></th>\n",
       "      <th></th>\n",
       "      <th></th>\n",
       "    </tr>\n",
       "  </thead>\n",
       "  <tbody>\n",
       "    <tr>\n",
       "      <th>Capomulin</th>\n",
       "      <td>40.675741</td>\n",
       "      <td>41.557809</td>\n",
       "      <td>24.947764</td>\n",
       "      <td>4.994774</td>\n",
       "      <td>0.329346</td>\n",
       "    </tr>\n",
       "    <tr>\n",
       "      <th>Ceftamin</th>\n",
       "      <td>52.591172</td>\n",
       "      <td>51.776157</td>\n",
       "      <td>39.290177</td>\n",
       "      <td>6.268188</td>\n",
       "      <td>0.469821</td>\n",
       "    </tr>\n",
       "    <tr>\n",
       "      <th>Infubinol</th>\n",
       "      <td>52.884795</td>\n",
       "      <td>51.820584</td>\n",
       "      <td>43.128684</td>\n",
       "      <td>6.567243</td>\n",
       "      <td>0.492236</td>\n",
       "    </tr>\n",
       "    <tr>\n",
       "      <th>Ketapril</th>\n",
       "      <td>55.235638</td>\n",
       "      <td>53.698743</td>\n",
       "      <td>68.553577</td>\n",
       "      <td>8.279709</td>\n",
       "      <td>0.603860</td>\n",
       "    </tr>\n",
       "    <tr>\n",
       "      <th>Naftisol</th>\n",
       "      <td>54.331565</td>\n",
       "      <td>52.509285</td>\n",
       "      <td>66.173479</td>\n",
       "      <td>8.134708</td>\n",
       "      <td>0.596466</td>\n",
       "    </tr>\n",
       "    <tr>\n",
       "      <th>Placebo</th>\n",
       "      <td>54.033581</td>\n",
       "      <td>52.288934</td>\n",
       "      <td>61.168083</td>\n",
       "      <td>7.821003</td>\n",
       "      <td>0.581331</td>\n",
       "    </tr>\n",
       "    <tr>\n",
       "      <th>Propriva</th>\n",
       "      <td>52.320930</td>\n",
       "      <td>50.446266</td>\n",
       "      <td>43.852013</td>\n",
       "      <td>6.622085</td>\n",
       "      <td>0.544332</td>\n",
       "    </tr>\n",
       "    <tr>\n",
       "      <th>Ramicane</th>\n",
       "      <td>40.216745</td>\n",
       "      <td>40.673236</td>\n",
       "      <td>23.486704</td>\n",
       "      <td>4.846308</td>\n",
       "      <td>0.320955</td>\n",
       "    </tr>\n",
       "    <tr>\n",
       "      <th>Stelasyn</th>\n",
       "      <td>54.233149</td>\n",
       "      <td>52.431737</td>\n",
       "      <td>59.450562</td>\n",
       "      <td>7.710419</td>\n",
       "      <td>0.573111</td>\n",
       "    </tr>\n",
       "    <tr>\n",
       "      <th>Zoniferol</th>\n",
       "      <td>53.236507</td>\n",
       "      <td>51.818479</td>\n",
       "      <td>48.533355</td>\n",
       "      <td>6.966589</td>\n",
       "      <td>0.516398</td>\n",
       "    </tr>\n",
       "  </tbody>\n",
       "</table>\n",
       "</div>"
      ],
      "text/plain": [
       "             Tumor Volume (mm3)                                          \n",
       "                           mean     median        var       std       sem\n",
       "Drug Regimen                                                             \n",
       "Capomulin             40.675741  41.557809  24.947764  4.994774  0.329346\n",
       "Ceftamin              52.591172  51.776157  39.290177  6.268188  0.469821\n",
       "Infubinol             52.884795  51.820584  43.128684  6.567243  0.492236\n",
       "Ketapril              55.235638  53.698743  68.553577  8.279709  0.603860\n",
       "Naftisol              54.331565  52.509285  66.173479  8.134708  0.596466\n",
       "Placebo               54.033581  52.288934  61.168083  7.821003  0.581331\n",
       "Propriva              52.320930  50.446266  43.852013  6.622085  0.544332\n",
       "Ramicane              40.216745  40.673236  23.486704  4.846308  0.320955\n",
       "Stelasyn              54.233149  52.431737  59.450562  7.710419  0.573111\n",
       "Zoniferol             53.236507  51.818479  48.533355  6.966589  0.516398"
      ]
     },
     "execution_count": 9,
     "metadata": {},
     "output_type": "execute_result"
    }
   ],
   "source": [
    "# A more advanced method to generate a summary statistics table of mean, median, variance, standard deviation,\n",
    "# and SEM of the tumor volume for each regimen (only one method is required in the solution)\n",
    "\n",
    "# Using the aggregation method, produce the same summary statistics in a single line\n",
    "\n",
    "agg_summary_df = clean_data.groupby(['Drug Regimen'])[['Tumor Volume (mm3)']].agg(['mean', 'median', 'var', 'std', 'sem'])\n",
    "agg_summary_df"
   ]
  },
  {
   "cell_type": "markdown",
   "metadata": {},
   "source": [
    "## Bar and Pie Charts"
   ]
  },
  {
   "cell_type": "code",
   "execution_count": 10,
   "metadata": {},
   "outputs": [
    {
     "data": {
      "text/plain": [
       "Drug Regimen\n",
       "Capomulin    230\n",
       "Ramicane     228\n",
       "Ketapril     188\n",
       "Naftisol     186\n",
       "Zoniferol    182\n",
       "Placebo      181\n",
       "Stelasyn     181\n",
       "Infubinol    178\n",
       "Ceftamin     178\n",
       "Propriva     148\n",
       "Name: count, dtype: int64"
      ]
     },
     "execution_count": 10,
     "metadata": {},
     "output_type": "execute_result"
    }
   ],
   "source": [
    "\n",
    "mouse_tested = clean_data[\"Drug Regimen\"].value_counts()\n",
    "mouse_tested"
   ]
  },
  {
   "cell_type": "code",
   "execution_count": 63,
   "metadata": {},
   "outputs": [
    {
     "data": {
      "text/plain": [
       "Text(0, 0.5, 'Number of Mice')"
      ]
     },
     "execution_count": 63,
     "metadata": {},
     "output_type": "execute_result"
    },
    {
     "data": {
      "image/png": "[encoded data removed]",
      "text/plain": [
       "<Figure size 640x480 with 1 Axes>"
      ]
     },
     "metadata": {},
     "output_type": "display_data"
    }
   ],
   "source": [
    "# Generate a bar plot showing the total number of timepoints for all mice tested for each drug regimen using Pandas.\n",
    "plot_mouse = mouse_tested.plot.bar()  \n",
    "\n",
    "plt.xlabel(\"Drug Regimen\") \n",
    "plt.ylabel(\"Number of Mice\") "
   ]
  },
  {
   "cell_type": "code",
   "execution_count": 65,
   "metadata": {},
   "outputs": [
    {
     "data": {
      "image/png": "[encoded data removed]",
      "text/plain": [
       "<Figure size 640x480 with 1 Axes>"
      ]
     },
     "metadata": {},
     "output_type": "display_data"
    }
   ],
   "source": [
    "# Generate a bar plot showing the total number of timepoints for all mice tested for each drug regimen using pyplot.\n",
    "x_axis = mouse_tested.index.values\n",
    "y_axis = mouse_tested.values\n",
    "\n",
    "plt.bar(x_axis, y_axis,alpha=0.8, align='center')\n",
    "\n",
    "\n",
    "plt.xlabel(\"Drug Regimen\")\n",
    "plt.ylabel(\"Number of Mice\")\n",
    "plt.xticks(rotation=\"vertical\")\n",
    "\n",
    "plt.show()"
   ]
  },
  {
   "cell_type": "code",
   "execution_count": 13,
   "metadata": {},
   "outputs": [
    {
     "data": {
      "image/png": "[encoded data removed]",
      "text/plain": [
       "<Figure size 640x480 with 1 Axes>"
      ]
     },
     "metadata": {},
     "output_type": "display_data"
    }
   ],
   "source": [
    "# Generate a pie plot showing the distribution of female versus male mice using Pandas\n",
    "sex_data = clean_data[\"Sex\"].value_counts()\n",
    "\n",
    "sex_data.plot.pie(autopct= \"%1.1f%%\")\n",
    "plt.show()"
   ]
  },
  {
   "cell_type": "code",
   "execution_count": 15,
   "metadata": {},
   "outputs": [
    {
     "data": {
      "image/png": "[encoded data removed]",
      "text/plain": [
       "<Figure size 640x480 with 1 Axes>"
      ]
     },
     "metadata": {},
     "output_type": "display_data"
    }
   ],
   "source": [
    "# Generate a pie plot showing the distribution of female versus male mice using pyplot\n",
    "sex_data = clean_data[\"Sex\"].value_counts()\n",
    "\n",
    "plt.pie(sex_data.values, labels=sex_data.index, autopct='%1.1f%%')\n",
    "\n",
    "# set axis and title of the plot\n",
    "plt.ylabel('Sex')\n",
    "\n",
    "\n",
    "# show the plot\n",
    "plt.show()"
   ]
  },
  {
   "cell_type": "markdown",
   "metadata": {},
   "source": [
    "## Quartiles, Outliers and Boxplots"
   ]
  },
  {
   "cell_type": "code",
   "execution_count": 17,
   "metadata": {},
   "outputs": [],
   "source": [
    "# Calculate the final tumor volume of each mouse across four of the treatment regimens:  \n",
    "# Capomulin, Ramicane, Infubinol, and Ceftamin\n",
    "\n",
    "# Start by getting the last (greatest) timepoint for each mouse\n",
    "capomulin_df = clean_data.loc[clean_data[\"Drug Regimen\"] == \"Capomulin\",:]\n",
    "ramicane_df = clean_data.loc[clean_data[\"Drug Regimen\"] == \"Ramicane\",:]\n",
    "infubinol_df = clean_data.loc[clean_data[\"Drug Regimen\"] == \"Infubinol\",:]\n",
    "ceftamin_df = clean_data.loc[clean_data[\"Drug Regimen\"] == \"Ceftamin\",:]\n",
    "\n",
    "# Merge this group df with the original DataFrame to get the tumor volume at the last timepoint\n",
    "#Ill seperate this to the next cells"
   ]
  },
  {
   "cell_type": "code",
   "execution_count": 18,
   "metadata": {},
   "outputs": [
    {
     "data": {
      "text/html": [
       "<div>\n",
       "<style scoped>\n",
       "    .dataframe tbody tr th:only-of-type {\n",
       "        vertical-align: middle;\n",
       "    }\n",
       "\n",
       "    .dataframe tbody tr th {\n",
       "        vertical-align: top;\n",
       "    }\n",
       "\n",
       "    .dataframe thead th {\n",
       "        text-align: right;\n",
       "    }\n",
       "</style>\n",
       "<table border=\"1\" class=\"dataframe\">\n",
       "  <thead>\n",
       "    <tr style=\"text-align: right;\">\n",
       "      <th></th>\n",
       "      <th>Mouse ID</th>\n",
       "      <th>Timepoint</th>\n",
       "      <th>Drug Regimen</th>\n",
       "      <th>Sex</th>\n",
       "      <th>Age_months</th>\n",
       "      <th>Weight (g)</th>\n",
       "      <th>Tumor Volume (mm3)</th>\n",
       "      <th>Metastatic Sites</th>\n",
       "    </tr>\n",
       "  </thead>\n",
       "  <tbody>\n",
       "    <tr>\n",
       "      <th>0</th>\n",
       "      <td>b128</td>\n",
       "      <td>45</td>\n",
       "      <td>Capomulin</td>\n",
       "      <td>Female</td>\n",
       "      <td>9</td>\n",
       "      <td>22</td>\n",
       "      <td>38.982878</td>\n",
       "      <td>2</td>\n",
       "    </tr>\n",
       "    <tr>\n",
       "      <th>1</th>\n",
       "      <td>b742</td>\n",
       "      <td>45</td>\n",
       "      <td>Capomulin</td>\n",
       "      <td>Male</td>\n",
       "      <td>7</td>\n",
       "      <td>21</td>\n",
       "      <td>38.939633</td>\n",
       "      <td>0</td>\n",
       "    </tr>\n",
       "    <tr>\n",
       "      <th>2</th>\n",
       "      <td>f966</td>\n",
       "      <td>20</td>\n",
       "      <td>Capomulin</td>\n",
       "      <td>Male</td>\n",
       "      <td>16</td>\n",
       "      <td>17</td>\n",
       "      <td>30.485985</td>\n",
       "      <td>0</td>\n",
       "    </tr>\n",
       "    <tr>\n",
       "      <th>3</th>\n",
       "      <td>g288</td>\n",
       "      <td>45</td>\n",
       "      <td>Capomulin</td>\n",
       "      <td>Male</td>\n",
       "      <td>3</td>\n",
       "      <td>19</td>\n",
       "      <td>37.074024</td>\n",
       "      <td>1</td>\n",
       "    </tr>\n",
       "    <tr>\n",
       "      <th>4</th>\n",
       "      <td>g316</td>\n",
       "      <td>45</td>\n",
       "      <td>Capomulin</td>\n",
       "      <td>Female</td>\n",
       "      <td>22</td>\n",
       "      <td>22</td>\n",
       "      <td>40.159220</td>\n",
       "      <td>2</td>\n",
       "    </tr>\n",
       "  </tbody>\n",
       "</table>\n",
       "</div>"
      ],
      "text/plain": [
       "  Mouse ID  Timepoint Drug Regimen     Sex  Age_months  Weight (g)   \n",
       "0     b128         45    Capomulin  Female           9          22  \\\n",
       "1     b742         45    Capomulin    Male           7          21   \n",
       "2     f966         20    Capomulin    Male          16          17   \n",
       "3     g288         45    Capomulin    Male           3          19   \n",
       "4     g316         45    Capomulin  Female          22          22   \n",
       "\n",
       "   Tumor Volume (mm3)  Metastatic Sites  \n",
       "0           38.982878                 2  \n",
       "1           38.939633                 0  \n",
       "2           30.485985                 0  \n",
       "3           37.074024                 1  \n",
       "4           40.159220                 2  "
      ]
     },
     "execution_count": 18,
     "metadata": {},
     "output_type": "execute_result"
    }
   ],
   "source": [
    "#capomulin merge\n",
    "capomulin_last = capomulin_df.groupby('Mouse ID').max()['Timepoint'] \n",
    "capomulin_vol = pd.DataFrame(capomulin_last) \n",
    "capomulin_merge = pd.merge(capomulin_vol,clean_data, on=(\"Mouse ID\",\"Timepoint\"),how=\"left\")\n",
    "capomulin_merge.head()"
   ]
  },
  {
   "cell_type": "code",
   "execution_count": 19,
   "metadata": {},
   "outputs": [
    {
     "data": {
      "text/html": [
       "<div>\n",
       "<style scoped>\n",
       "    .dataframe tbody tr th:only-of-type {\n",
       "        vertical-align: middle;\n",
       "    }\n",
       "\n",
       "    .dataframe tbody tr th {\n",
       "        vertical-align: top;\n",
       "    }\n",
       "\n",
       "    .dataframe thead th {\n",
       "        text-align: right;\n",
       "    }\n",
       "</style>\n",
       "<table border=\"1\" class=\"dataframe\">\n",
       "  <thead>\n",
       "    <tr style=\"text-align: right;\">\n",
       "      <th></th>\n",
       "      <th>Mouse ID</th>\n",
       "      <th>Timepoint</th>\n",
       "      <th>Drug Regimen</th>\n",
       "      <th>Sex</th>\n",
       "      <th>Age_months</th>\n",
       "      <th>Weight (g)</th>\n",
       "      <th>Tumor Volume (mm3)</th>\n",
       "      <th>Metastatic Sites</th>\n",
       "    </tr>\n",
       "  </thead>\n",
       "  <tbody>\n",
       "    <tr>\n",
       "      <th>0</th>\n",
       "      <td>a411</td>\n",
       "      <td>45</td>\n",
       "      <td>Ramicane</td>\n",
       "      <td>Male</td>\n",
       "      <td>3</td>\n",
       "      <td>22</td>\n",
       "      <td>38.407618</td>\n",
       "      <td>1</td>\n",
       "    </tr>\n",
       "    <tr>\n",
       "      <th>1</th>\n",
       "      <td>a444</td>\n",
       "      <td>45</td>\n",
       "      <td>Ramicane</td>\n",
       "      <td>Female</td>\n",
       "      <td>10</td>\n",
       "      <td>25</td>\n",
       "      <td>43.047543</td>\n",
       "      <td>0</td>\n",
       "    </tr>\n",
       "    <tr>\n",
       "      <th>2</th>\n",
       "      <td>a520</td>\n",
       "      <td>45</td>\n",
       "      <td>Ramicane</td>\n",
       "      <td>Male</td>\n",
       "      <td>13</td>\n",
       "      <td>21</td>\n",
       "      <td>38.810366</td>\n",
       "      <td>1</td>\n",
       "    </tr>\n",
       "    <tr>\n",
       "      <th>3</th>\n",
       "      <td>a644</td>\n",
       "      <td>45</td>\n",
       "      <td>Ramicane</td>\n",
       "      <td>Female</td>\n",
       "      <td>7</td>\n",
       "      <td>17</td>\n",
       "      <td>32.978522</td>\n",
       "      <td>1</td>\n",
       "    </tr>\n",
       "    <tr>\n",
       "      <th>4</th>\n",
       "      <td>c458</td>\n",
       "      <td>30</td>\n",
       "      <td>Ramicane</td>\n",
       "      <td>Female</td>\n",
       "      <td>23</td>\n",
       "      <td>20</td>\n",
       "      <td>38.342008</td>\n",
       "      <td>2</td>\n",
       "    </tr>\n",
       "  </tbody>\n",
       "</table>\n",
       "</div>"
      ],
      "text/plain": [
       "  Mouse ID  Timepoint Drug Regimen     Sex  Age_months  Weight (g)   \n",
       "0     a411         45     Ramicane    Male           3          22  \\\n",
       "1     a444         45     Ramicane  Female          10          25   \n",
       "2     a520         45     Ramicane    Male          13          21   \n",
       "3     a644         45     Ramicane  Female           7          17   \n",
       "4     c458         30     Ramicane  Female          23          20   \n",
       "\n",
       "   Tumor Volume (mm3)  Metastatic Sites  \n",
       "0           38.407618                 1  \n",
       "1           43.047543                 0  \n",
       "2           38.810366                 1  \n",
       "3           32.978522                 1  \n",
       "4           38.342008                 2  "
      ]
     },
     "execution_count": 19,
     "metadata": {},
     "output_type": "execute_result"
    }
   ],
   "source": [
    "#ramicane merge\n",
    "ramicane_last = ramicane_df.groupby('Mouse ID').max()['Timepoint'] \n",
    "ramicane_vol = pd.DataFrame(ramicane_last) \n",
    "ramicane_merge = pd.merge(ramicane_vol,clean_data, on=(\"Mouse ID\",\"Timepoint\"),how=\"left\")\n",
    "ramicane_merge.head()"
   ]
  },
  {
   "cell_type": "code",
   "execution_count": 20,
   "metadata": {},
   "outputs": [
    {
     "data": {
      "text/html": [
       "<div>\n",
       "<style scoped>\n",
       "    .dataframe tbody tr th:only-of-type {\n",
       "        vertical-align: middle;\n",
       "    }\n",
       "\n",
       "    .dataframe tbody tr th {\n",
       "        vertical-align: top;\n",
       "    }\n",
       "\n",
       "    .dataframe thead th {\n",
       "        text-align: right;\n",
       "    }\n",
       "</style>\n",
       "<table border=\"1\" class=\"dataframe\">\n",
       "  <thead>\n",
       "    <tr style=\"text-align: right;\">\n",
       "      <th></th>\n",
       "      <th>Mouse ID</th>\n",
       "      <th>Timepoint</th>\n",
       "      <th>Drug Regimen</th>\n",
       "      <th>Sex</th>\n",
       "      <th>Age_months</th>\n",
       "      <th>Weight (g)</th>\n",
       "      <th>Tumor Volume (mm3)</th>\n",
       "      <th>Metastatic Sites</th>\n",
       "    </tr>\n",
       "  </thead>\n",
       "  <tbody>\n",
       "    <tr>\n",
       "      <th>0</th>\n",
       "      <td>a203</td>\n",
       "      <td>45</td>\n",
       "      <td>Infubinol</td>\n",
       "      <td>Female</td>\n",
       "      <td>20</td>\n",
       "      <td>23</td>\n",
       "      <td>67.973419</td>\n",
       "      <td>2</td>\n",
       "    </tr>\n",
       "    <tr>\n",
       "      <th>1</th>\n",
       "      <td>a251</td>\n",
       "      <td>45</td>\n",
       "      <td>Infubinol</td>\n",
       "      <td>Female</td>\n",
       "      <td>21</td>\n",
       "      <td>25</td>\n",
       "      <td>65.525743</td>\n",
       "      <td>1</td>\n",
       "    </tr>\n",
       "    <tr>\n",
       "      <th>2</th>\n",
       "      <td>a577</td>\n",
       "      <td>30</td>\n",
       "      <td>Infubinol</td>\n",
       "      <td>Female</td>\n",
       "      <td>6</td>\n",
       "      <td>25</td>\n",
       "      <td>57.031862</td>\n",
       "      <td>2</td>\n",
       "    </tr>\n",
       "    <tr>\n",
       "      <th>3</th>\n",
       "      <td>a685</td>\n",
       "      <td>45</td>\n",
       "      <td>Infubinol</td>\n",
       "      <td>Male</td>\n",
       "      <td>8</td>\n",
       "      <td>30</td>\n",
       "      <td>66.083066</td>\n",
       "      <td>3</td>\n",
       "    </tr>\n",
       "    <tr>\n",
       "      <th>4</th>\n",
       "      <td>c139</td>\n",
       "      <td>45</td>\n",
       "      <td>Infubinol</td>\n",
       "      <td>Male</td>\n",
       "      <td>11</td>\n",
       "      <td>28</td>\n",
       "      <td>72.226731</td>\n",
       "      <td>2</td>\n",
       "    </tr>\n",
       "  </tbody>\n",
       "</table>\n",
       "</div>"
      ],
      "text/plain": [
       "  Mouse ID  Timepoint Drug Regimen     Sex  Age_months  Weight (g)   \n",
       "0     a203         45    Infubinol  Female          20          23  \\\n",
       "1     a251         45    Infubinol  Female          21          25   \n",
       "2     a577         30    Infubinol  Female           6          25   \n",
       "3     a685         45    Infubinol    Male           8          30   \n",
       "4     c139         45    Infubinol    Male          11          28   \n",
       "\n",
       "   Tumor Volume (mm3)  Metastatic Sites  \n",
       "0           67.973419                 2  \n",
       "1           65.525743                 1  \n",
       "2           57.031862                 2  \n",
       "3           66.083066                 3  \n",
       "4           72.226731                 2  "
      ]
     },
     "execution_count": 20,
     "metadata": {},
     "output_type": "execute_result"
    }
   ],
   "source": [
    "#infubinol merge\n",
    "infubinol_last = infubinol_df.groupby('Mouse ID').max()['Timepoint'] \n",
    "infubinol_vol = pd.DataFrame(infubinol_last) \n",
    "infubinol_merge = pd.merge(infubinol_vol,clean_data, on=(\"Mouse ID\",\"Timepoint\"),how=\"left\")\n",
    "infubinol_merge.head()"
   ]
  },
  {
   "cell_type": "code",
   "execution_count": 21,
   "metadata": {},
   "outputs": [
    {
     "data": {
      "text/html": [
       "<div>\n",
       "<style scoped>\n",
       "    .dataframe tbody tr th:only-of-type {\n",
       "        vertical-align: middle;\n",
       "    }\n",
       "\n",
       "    .dataframe tbody tr th {\n",
       "        vertical-align: top;\n",
       "    }\n",
       "\n",
       "    .dataframe thead th {\n",
       "        text-align: right;\n",
       "    }\n",
       "</style>\n",
       "<table border=\"1\" class=\"dataframe\">\n",
       "  <thead>\n",
       "    <tr style=\"text-align: right;\">\n",
       "      <th></th>\n",
       "      <th>Mouse ID</th>\n",
       "      <th>Timepoint</th>\n",
       "      <th>Drug Regimen</th>\n",
       "      <th>Sex</th>\n",
       "      <th>Age_months</th>\n",
       "      <th>Weight (g)</th>\n",
       "      <th>Tumor Volume (mm3)</th>\n",
       "      <th>Metastatic Sites</th>\n",
       "    </tr>\n",
       "  </thead>\n",
       "  <tbody>\n",
       "    <tr>\n",
       "      <th>0</th>\n",
       "      <td>a275</td>\n",
       "      <td>45</td>\n",
       "      <td>Ceftamin</td>\n",
       "      <td>Female</td>\n",
       "      <td>20</td>\n",
       "      <td>28</td>\n",
       "      <td>62.999356</td>\n",
       "      <td>3</td>\n",
       "    </tr>\n",
       "    <tr>\n",
       "      <th>1</th>\n",
       "      <td>b447</td>\n",
       "      <td>0</td>\n",
       "      <td>Ceftamin</td>\n",
       "      <td>Male</td>\n",
       "      <td>2</td>\n",
       "      <td>30</td>\n",
       "      <td>45.000000</td>\n",
       "      <td>0</td>\n",
       "    </tr>\n",
       "    <tr>\n",
       "      <th>2</th>\n",
       "      <td>b487</td>\n",
       "      <td>25</td>\n",
       "      <td>Ceftamin</td>\n",
       "      <td>Female</td>\n",
       "      <td>6</td>\n",
       "      <td>28</td>\n",
       "      <td>56.057749</td>\n",
       "      <td>1</td>\n",
       "    </tr>\n",
       "    <tr>\n",
       "      <th>3</th>\n",
       "      <td>b759</td>\n",
       "      <td>30</td>\n",
       "      <td>Ceftamin</td>\n",
       "      <td>Female</td>\n",
       "      <td>12</td>\n",
       "      <td>25</td>\n",
       "      <td>55.742829</td>\n",
       "      <td>1</td>\n",
       "    </tr>\n",
       "    <tr>\n",
       "      <th>4</th>\n",
       "      <td>f436</td>\n",
       "      <td>15</td>\n",
       "      <td>Ceftamin</td>\n",
       "      <td>Female</td>\n",
       "      <td>3</td>\n",
       "      <td>25</td>\n",
       "      <td>48.722078</td>\n",
       "      <td>2</td>\n",
       "    </tr>\n",
       "  </tbody>\n",
       "</table>\n",
       "</div>"
      ],
      "text/plain": [
       "  Mouse ID  Timepoint Drug Regimen     Sex  Age_months  Weight (g)   \n",
       "0     a275         45     Ceftamin  Female          20          28  \\\n",
       "1     b447          0     Ceftamin    Male           2          30   \n",
       "2     b487         25     Ceftamin  Female           6          28   \n",
       "3     b759         30     Ceftamin  Female          12          25   \n",
       "4     f436         15     Ceftamin  Female           3          25   \n",
       "\n",
       "   Tumor Volume (mm3)  Metastatic Sites  \n",
       "0           62.999356                 3  \n",
       "1           45.000000                 0  \n",
       "2           56.057749                 1  \n",
       "3           55.742829                 1  \n",
       "4           48.722078                 2  "
      ]
     },
     "execution_count": 21,
     "metadata": {},
     "output_type": "execute_result"
    }
   ],
   "source": [
    "#ceftamin merge\n",
    "ceftamin_last = ceftamin_df.groupby('Mouse ID').max()['Timepoint'] \n",
    "ceftamin_vol = pd.DataFrame(ceftamin_last) \n",
    "ceftamin_merge = pd.merge(ceftamin_vol,clean_data, on=(\"Mouse ID\",\"Timepoint\"),how=\"left\")\n",
    "ceftamin_merge.head()"
   ]
  },
  {
   "cell_type": "code",
   "execution_count": 32,
   "metadata": {},
   "outputs": [
    {
     "name": "stdout",
     "output_type": "stream",
     "text": [
      "The lower quartile of capomulin tumors: 32.37735684\n",
      "The upper quartile of capomulin tumors: 40.1592203\n",
      "The interquartile range of capomulin tumors: 15.577752179999997\n",
      "The median of capomulin tumors: 38.1251644 \n",
      "Values below 9.010728570000001 could be outliers.\n",
      "Values above 63.525848569999994 could be outliers.\n"
     ]
    }
   ],
   "source": [
    "#capomulin IQR\n",
    "capomulin_tumor_vol = capomulin_merge[\"Tumor Volume (mm3)\"]\n",
    "\n",
    "capomulin_quartiles =capomulin_tumor_vol.quantile([.25,.5,.75])\n",
    "capomulin_lowerq = capomulin_quartiles[0.25]\n",
    "capomulin_upperq = capomulin_quartiles[0.75]\n",
    "capomulin_iqr = upperq-lowerq\n",
    "\n",
    "\n",
    "print(f\"The lower quartile of capomulin tumors: {capomulin_lowerq}\")\n",
    "print(f\"The upper quartile of capomulin tumors: {capomulin_upperq}\")\n",
    "print(f\"The interquartile range of capomulin tumors: {capomulin_iqr}\")\n",
    "print(f\"The median of capomulin tumors: {capomulin_quartiles[0.5]} \")\n",
    "\n",
    "capomulin_lower_bound = capomulin_lowerq - (1.5*iqr)\n",
    "capomulin_upper_bound = capomulin_upperq + (1.5*iqr)\n",
    "\n",
    "print(f\"Values below {capomulin_lower_bound} could be outliers.\")\n",
    "print(f\"Values above {capomulin_upper_bound} could be outliers.\")"
   ]
  },
  {
   "cell_type": "code",
   "execution_count": 33,
   "metadata": {},
   "outputs": [
    {
     "name": "stdout",
     "output_type": "stream",
     "text": [
      "The lower quartile of ramicane tumors: 31.56046955\n",
      "The upper quartile of ramicane tumors: 40.65900627\n",
      "The interquartile range of ramicane tumors: 9.098536719999998\n",
      "The median of ramicane tumors: 36.56165229 \n",
      "Values below 8.193841280000004 could be outliers.\n",
      "Values above 64.02563454 could be outliers.\n"
     ]
    }
   ],
   "source": [
    "#ramicane IQR\n",
    "ramicane_tumor_vol = ramicane_merge[\"Tumor Volume (mm3)\"]\n",
    "\n",
    "ramicane_quartiles =ramicane_tumor_vol.quantile([.25,.5,.75])\n",
    "ramicane_lowerq = ramicane_quartiles[0.25]\n",
    "ramicane_upperq = ramicane_quartiles[0.75]\n",
    "ramicane_iqr = ramicane_upperq-ramicane_lowerq\n",
    "\n",
    "\n",
    "print(f\"The lower quartile of ramicane tumors: {ramicane_lowerq}\")\n",
    "print(f\"The upper quartile of ramicane tumors: {ramicane_upperq}\")\n",
    "print(f\"The interquartile range of ramicane tumors: {ramicane_iqr}\")\n",
    "print(f\"The median of ramicane tumors: {ramicane_quartiles[0.5]} \")\n",
    "\n",
    "ramicane_lower_bound = ramicane_lowerq - (1.5*iqr)\n",
    "ramicane_upper_bound = ramicane_upperq + (1.5*iqr)\n",
    "\n",
    "print(f\"Values below {ramicane_lower_bound} could be outliers.\")\n",
    "print(f\"Values above {ramicane_upper_bound} could be outliers.\")"
   ]
  },
  {
   "cell_type": "code",
   "execution_count": 34,
   "metadata": {},
   "outputs": [
    {
     "name": "stdout",
     "output_type": "stream",
     "text": [
      "The lower quartile of infubinol tumors: 54.04860769\n",
      "The upper quartile of infubinol tumors: 65.52574285\n",
      "The interquartile range of infubinol tumors: 11.477135160000003\n",
      "The median of infubinol tumors: 60.16518046 \n",
      "Values below 30.68197942 could be outliers.\n",
      "Values above 88.89237111999999 could be outliers.\n"
     ]
    }
   ],
   "source": [
    "#infubinol merge\n",
    "infubinol_tumor_vol = infubinol_merge[\"Tumor Volume (mm3)\"]\n",
    "\n",
    "infubinol_quartiles =infubinol_tumor_vol.quantile([.25,.5,.75])\n",
    "infubinol_lowerq = infubinol_quartiles[0.25]\n",
    "infubinol_upperq = infubinol_quartiles[0.75]\n",
    "infubinol_iqr = infubinol_upperq-infubinol_lowerq\n",
    "\n",
    "\n",
    "print(f\"The lower quartile of infubinol tumors: {infubinol_lowerq}\")\n",
    "print(f\"The upper quartile of infubinol tumors: {infubinol_upperq}\")\n",
    "print(f\"The interquartile range of infubinol tumors: {infubinol_iqr}\")\n",
    "print(f\"The median of infubinol tumors: {infubinol_quartiles[0.5]} \")\n",
    "\n",
    "infubinol_lower_bound = infubinol_lowerq - (1.5*iqr)\n",
    "infubinol_upper_bound = infubinol_upperq + (1.5*iqr)\n",
    "\n",
    "print(f\"Values below {infubinol_lower_bound} could be outliers.\")\n",
    "print(f\"Values above {infubinol_upper_bound} could be outliers.\")"
   ]
  },
  {
   "cell_type": "code",
   "execution_count": 35,
   "metadata": {},
   "outputs": [
    {
     "name": "stdout",
     "output_type": "stream",
     "text": [
      "The lower quartile of ceftamin tumors: 48.72207785\n",
      "The upper quartile of ceftamin tumors: 64.29983003\n",
      "The interquartile range of ceftamin tumors: 15.577752179999997\n",
      "The median of ceftamin tumors: 59.85195552 \n",
      "Values below 25.355449580000002 could be outliers.\n",
      "Values above 87.66645829999999 could be outliers.\n"
     ]
    }
   ],
   "source": [
    "#ceftamin merge\n",
    "ceftamin_tumor_vol = ceftamin_merge[\"Tumor Volume (mm3)\"]\n",
    "\n",
    "ceftamin_quartiles =ceftamin_tumor_vol.quantile([.25,.5,.75])\n",
    "ceftamin_lowerq = ceftamin_quartiles[0.25]\n",
    "ceftamin_upperq = ceftamin_quartiles[0.75]\n",
    "ceftamin_iqr = ceftamin_upperq-ceftamin_lowerq\n",
    "\n",
    "\n",
    "print(f\"The lower quartile of ceftamin tumors: {ceftamin_lowerq}\")\n",
    "print(f\"The upper quartile of ceftamin tumors: {ceftamin_upperq}\")\n",
    "print(f\"The interquartile range of ceftamin tumors: {ceftamin_iqr}\")\n",
    "print(f\"The median of ceftamin tumors: {ceftamin_quartiles[0.5]} \")\n",
    "\n",
    "ceftamin_lower_bound = ceftamin_lowerq - (1.5*iqr)\n",
    "ceftamin_upper_bound = ceftamin_upperq + (1.5*iqr)\n",
    "\n",
    "print(f\"Values below {ceftamin_lower_bound} could be outliers.\")\n",
    "print(f\"Values above {ceftamin_upper_bound} could be outliers.\")"
   ]
  },
  {
   "cell_type": "code",
   "execution_count": 42,
   "metadata": {},
   "outputs": [
    {
     "data": {
      "image/png": "[encoded data removed]",
      "text/plain": [
       "<Figure size 640x480 with 1 Axes>"
      ]
     },
     "metadata": {},
     "output_type": "display_data"
    }
   ],
   "source": [
    "box_plot = [ceftamin_tumor_vol, ramicane_tumor_vol, infubinol_tumor_vol, ceftamin_tumor_vol]\n",
    "regimen = ['Capomulin', 'Ramicane', 'Infubinol','Ceftamin']\n",
    "\n",
    "fig1, ax1 = plt.subplots()\n",
    "ax1.set_title('Tumor Volume for Mice')\n",
    "ax1.set_ylabel('Tumor Volume in mm3')\n",
    "ax1.set_xlabel('Regimen')\n",
    "ax1.boxplot(box_plot, labels=regimen, widths = 0.4, vert=True)\n",
    "plt.show()"
   ]
  },
  {
   "cell_type": "markdown",
   "metadata": {},
   "source": [
    "## Line and Scatter Plots"
   ]
  },
  {
   "cell_type": "code",
   "execution_count": 46,
   "metadata": {},
   "outputs": [
    {
     "data": {
      "text/plain": [
       "[<matplotlib.lines.Line2D at 0x1e936940a30>]"
      ]
     },
     "execution_count": 46,
     "metadata": {},
     "output_type": "execute_result"
    },
    {
     "data": {
      "image/png": "[encoded data removed]",
      "text/plain": [
       "<Figure size 640x480 with 1 Axes>"
      ]
     },
     "metadata": {},
     "output_type": "display_data"
    }
   ],
   "source": [
    "line = capomulin_df.loc[capomulin_df[\"Mouse ID\"] == \"l509\",:]\n",
    "x_axis = line[\"Timepoint\"]\n",
    "y_axis = line[\"Tumor Volume (mm3)\"]\n",
    "\n",
    "plt.title('Capomulin treatmeant of mouse l509')\n",
    "plt.xlabel('Timepoint (Days)')\n",
    "plt.ylabel('Tumor Volume (mm3)')\n",
    "plt.plot(x_axis, y_axis) "
   ]
  },
  {
   "cell_type": "code",
   "execution_count": 49,
   "metadata": {},
   "outputs": [
    {
     "data": {
      "text/html": [
       "<div>\n",
       "<style scoped>\n",
       "    .dataframe tbody tr th:only-of-type {\n",
       "        vertical-align: middle;\n",
       "    }\n",
       "\n",
       "    .dataframe tbody tr th {\n",
       "        vertical-align: top;\n",
       "    }\n",
       "\n",
       "    .dataframe thead th {\n",
       "        text-align: right;\n",
       "    }\n",
       "</style>\n",
       "<table border=\"1\" class=\"dataframe\">\n",
       "  <thead>\n",
       "    <tr style=\"text-align: right;\">\n",
       "      <th></th>\n",
       "      <th>Mouse ID</th>\n",
       "      <th>Drug Regimen</th>\n",
       "      <th>Sex</th>\n",
       "      <th>Age_months</th>\n",
       "      <th>Weight (g)</th>\n",
       "      <th>Timepoint</th>\n",
       "      <th>Tumor Volume (mm3)</th>\n",
       "      <th>Metastatic Sites</th>\n",
       "    </tr>\n",
       "  </thead>\n",
       "  <tbody>\n",
       "    <tr>\n",
       "      <th>10</th>\n",
       "      <td>s185</td>\n",
       "      <td>Capomulin</td>\n",
       "      <td>Female</td>\n",
       "      <td>3</td>\n",
       "      <td>17</td>\n",
       "      <td>0</td>\n",
       "      <td>45.000000</td>\n",
       "      <td>0</td>\n",
       "    </tr>\n",
       "    <tr>\n",
       "      <th>11</th>\n",
       "      <td>s185</td>\n",
       "      <td>Capomulin</td>\n",
       "      <td>Female</td>\n",
       "      <td>3</td>\n",
       "      <td>17</td>\n",
       "      <td>5</td>\n",
       "      <td>43.878496</td>\n",
       "      <td>0</td>\n",
       "    </tr>\n",
       "    <tr>\n",
       "      <th>12</th>\n",
       "      <td>s185</td>\n",
       "      <td>Capomulin</td>\n",
       "      <td>Female</td>\n",
       "      <td>3</td>\n",
       "      <td>17</td>\n",
       "      <td>10</td>\n",
       "      <td>37.614948</td>\n",
       "      <td>0</td>\n",
       "    </tr>\n",
       "    <tr>\n",
       "      <th>13</th>\n",
       "      <td>s185</td>\n",
       "      <td>Capomulin</td>\n",
       "      <td>Female</td>\n",
       "      <td>3</td>\n",
       "      <td>17</td>\n",
       "      <td>15</td>\n",
       "      <td>38.177232</td>\n",
       "      <td>0</td>\n",
       "    </tr>\n",
       "    <tr>\n",
       "      <th>14</th>\n",
       "      <td>s185</td>\n",
       "      <td>Capomulin</td>\n",
       "      <td>Female</td>\n",
       "      <td>3</td>\n",
       "      <td>17</td>\n",
       "      <td>20</td>\n",
       "      <td>36.866876</td>\n",
       "      <td>0</td>\n",
       "    </tr>\n",
       "  </tbody>\n",
       "</table>\n",
       "</div>"
      ],
      "text/plain": [
       "   Mouse ID Drug Regimen     Sex  Age_months  Weight (g)  Timepoint   \n",
       "10     s185    Capomulin  Female           3          17          0  \\\n",
       "11     s185    Capomulin  Female           3          17          5   \n",
       "12     s185    Capomulin  Female           3          17         10   \n",
       "13     s185    Capomulin  Female           3          17         15   \n",
       "14     s185    Capomulin  Female           3          17         20   \n",
       "\n",
       "    Tumor Volume (mm3)  Metastatic Sites  \n",
       "10           45.000000                 0  \n",
       "11           43.878496                 0  \n",
       "12           37.614948                 0  \n",
       "13           38.177232                 0  \n",
       "14           36.866876                 0  "
      ]
     },
     "execution_count": 49,
     "metadata": {},
     "output_type": "execute_result"
    }
   ],
   "source": [
    "capomulin_df.head()\n",
    "# avg_capo_vol =capomulin_df.groupby(['Mouse ID']).mean()\n",
    "\n",
    "# avg_capo_vol.head()\n",
    "#plt.scatter(avg_capo_vol['Weight (g)'],avg_capo_vol['Tumor Volume (mm3)'])"
   ]
  },
  {
   "cell_type": "code",
   "execution_count": 62,
   "metadata": {},
   "outputs": [
    {
     "data": {
      "text/plain": [
       "Text(0, 0.5, 'Averag Tumor Volume (mm3)')"
      ]
     },
     "execution_count": 62,
     "metadata": {},
     "output_type": "execute_result"
    },
    {
     "data": {
      "image/png": "[encoded data removed]",
      "text/plain": [
       "<Figure size 640x480 with 1 Axes>"
      ]
     },
     "metadata": {},
     "output_type": "display_data"
    }
   ],
   "source": [
    "fig1, ax1 = plt.subplots()\n",
    "avg_capo_vol = capomulin_df.groupby(['Mouse ID'])['Tumor Volume (mm3)'].mean()\n",
    "avg_capo_g = capomulin_df.groupby(['Mouse ID'])['Weight (g)'].mean()\n",
    "\n",
    "plt.scatter(avg_capo_g,avg_capo_vol)\n",
    "\n",
    "plt.xlabel('Weight (g)')\n",
    "plt.ylabel('Averag Tumor Volume (mm3)')"
   ]
  },
  {
   "cell_type": "markdown",
   "metadata": {},
   "source": [
    "## Correlation and Regression"
   ]
  },
  {
   "cell_type": "code",
   "execution_count": 69,
   "metadata": {},
   "outputs": [
    {
     "name": "stdout",
     "output_type": "stream",
     "text": [
      "Correlation with mouse weight and average tumor volume is 0.84\n"
     ]
    }
   ],
   "source": [
    "# Calculate the correlation coefficient and a linear regression model \n",
    "correlation = st.pearsonr(avg_capo_g,avg_capo_vol)\n",
    "print(f\"Correlation with mouse weight and average tumor volume is {round(correlation[0],2)}\")"
   ]
  },
  {
   "cell_type": "code",
   "execution_count": 83,
   "metadata": {},
   "outputs": [
    {
     "data": {
      "image/png": "[encoded data removed]",
      "text/plain": [
       "<Figure size 640x480 with 1 Axes>"
      ]
     },
     "metadata": {},
     "output_type": "display_data"
    }
   ],
   "source": [
    "# for mouse weight and average observed tumor volume for the entire Capomulin regimen\n",
    "fig1, ax1 = plt.subplots()\n",
    "avg_capo_vol = capomulin_df.groupby(['Mouse ID'])['Tumor Volume (mm3)'].mean()\n",
    "avg_capo_g = capomulin_df.groupby(['Mouse ID'])['Weight (g)'].mean()\n",
    "\n",
    "plt.scatter(avg_capo_g, avg_capo_vol)\n",
    "\n",
    "plt.xlabel('Weight (g)')\n",
    "plt.ylabel('Average Tumor Volume (mm3)')\n",
    "\n",
    "# Calculate the regression line parameters\n",
    "slope, intercept, r_value, p_value, std_err = st.linregress(avg_capo_g, avg_capo_vol)\n",
    "\n",
    "# Create an array of x-values for the regression line\n",
    "x = np.array([min(avg_capo_g), max(avg_capo_g)])\n",
    "\n",
    "# Calculate the corresponding y-values for the regression line using the equation y = mx + b\n",
    "y = slope * x + intercept\n",
    "\n",
    "# Plot the regression line\n",
    "plt.plot(x, y, color='r')\n",
    "\n",
    "plt.show()"
   ]
  }
 ],
 "metadata": {
  "anaconda-cloud": {},
  "kernelspec": {
   "display_name": "Python 3 (ipykernel)",
   "language": "python",
   "name": "python3"
  },
  "language_info": {
   "codemirror_mode": {
    "name": "ipython",
    "version": 3
   },
   "file_extension": ".py",
   "mimetype": "text/x-python",
   "name": "python",
   "nbconvert_exporter": "python",
   "pygments_lexer": "ipython3",
   "version": "3.9.13"
  }
 },
 "nbformat": 4,
 "nbformat_minor": 4
}
